{
 "cells": [
  {
   "cell_type": "markdown",
   "metadata": {},
   "source": [
    "# Lets import required libraries"
   ]
  },
  {
   "cell_type": "code",
   "execution_count": 1,
   "metadata": {},
   "outputs": [],
   "source": [
    "import requests \n",
    "import pandas as pd\n",
    "from pandas import json_normalize\n",
    "import json\n"
   ]
  },
  {
   "cell_type": "markdown",
   "metadata": {},
   "source": [
    "# Extract json using requests library"
   ]
  },
  {
   "cell_type": "code",
   "execution_count": 2,
   "metadata": {},
   "outputs": [],
   "source": [
    "path = \"https://file.notion.so/f/s/98b0fa4b-2a85-40e0-af20-5a2785c55c92/Untitled.json?id=b6059ad3-5ee5-4f32-84b6-b03e68bdca98&table=block&spaceId=ca71608c-1cc3-4167-857a-24da97c78717&expirationTimestamp=1692856800000&signature=-4RtO-_UEk867fiOMecK_0DDHVmY_LsHZvJdHNH_1s0&downloadName=nested_data.json\"\n",
    "data = requests.get(path)\n",
    "json_text = json.loads(data.text)"
   ]
  },
  {
   "cell_type": "markdown",
   "metadata": {},
   "source": [
    "# load json file in a pandas DataFrame"
   ]
  },
  {
   "cell_type": "code",
   "execution_count": 3,
   "metadata": {},
   "outputs": [
    {
     "data": {
      "text/html": [
       "<div>\n",
       "<style scoped>\n",
       "    .dataframe tbody tr th:only-of-type {\n",
       "        vertical-align: middle;\n",
       "    }\n",
       "\n",
       "    .dataframe tbody tr th {\n",
       "        vertical-align: top;\n",
       "    }\n",
       "\n",
       "    .dataframe thead th {\n",
       "        text-align: right;\n",
       "    }\n",
       "</style>\n",
       "<table border=\"1\" class=\"dataframe\">\n",
       "  <thead>\n",
       "    <tr style=\"text-align: right;\">\n",
       "      <th></th>\n",
       "      <th>season</th>\n",
       "      <th>orchestra</th>\n",
       "      <th>concerts</th>\n",
       "      <th>programID</th>\n",
       "      <th>works</th>\n",
       "      <th>id</th>\n",
       "    </tr>\n",
       "  </thead>\n",
       "  <tbody>\n",
       "    <tr>\n",
       "      <th>0</th>\n",
       "      <td>1842-43</td>\n",
       "      <td>New York Philharmonic</td>\n",
       "      <td>[{'Date': '1842-12-07T05:00:00Z', 'eventType':...</td>\n",
       "      <td>3853</td>\n",
       "      <td>[{'workTitle': 'SYMPHONY NO. 5 IN C MINOR, OP....</td>\n",
       "      <td>38e072a7-8fc9-4f9a-8eac-3957905c0002</td>\n",
       "    </tr>\n",
       "    <tr>\n",
       "      <th>1</th>\n",
       "      <td>1842-43</td>\n",
       "      <td>New York Philharmonic</td>\n",
       "      <td>[{'Date': '1843-02-18T05:00:00Z', 'eventType':...</td>\n",
       "      <td>5178</td>\n",
       "      <td>[{'workTitle': 'SYMPHONY NO. 3 IN E FLAT MAJOR...</td>\n",
       "      <td>c7b2b95c-5e0b-431c-a340-5b37fc860b34</td>\n",
       "    </tr>\n",
       "    <tr>\n",
       "      <th>2</th>\n",
       "      <td>1842-43</td>\n",
       "      <td>Musicians from the New York Philharmonic</td>\n",
       "      <td>[{'Date': '1843-04-07T05:00:00Z', 'eventType':...</td>\n",
       "      <td>10785</td>\n",
       "      <td>[{'workTitle': 'EGMONT, OP.84', 'composerName'...</td>\n",
       "      <td>894e1a52-1ae5-4fa7-aec0-b99997555a37</td>\n",
       "    </tr>\n",
       "    <tr>\n",
       "      <th>3</th>\n",
       "      <td>1842-43</td>\n",
       "      <td>New York Philharmonic</td>\n",
       "      <td>[{'Date': '1843-04-22T05:00:00Z', 'eventType':...</td>\n",
       "      <td>5887</td>\n",
       "      <td>[{'workTitle': 'SYMPHONY NO. 2 IN D MAJOR, OP....</td>\n",
       "      <td>34ec2c2b-3297-4716-9831-b538310462b7</td>\n",
       "    </tr>\n",
       "    <tr>\n",
       "      <th>4</th>\n",
       "      <td>1843-44</td>\n",
       "      <td>New York Philharmonic</td>\n",
       "      <td>[{'Date': '1843-11-18T05:00:00Z', 'eventType':...</td>\n",
       "      <td>305</td>\n",
       "      <td>[{'workTitle': 'SYMPHONY NO. 7 IN A MAJOR, OP....</td>\n",
       "      <td>610a4acc-94e4-4cd6-bdc1-8ad020edc7e9</td>\n",
       "    </tr>\n",
       "    <tr>\n",
       "      <th>...</th>\n",
       "      <td>...</td>\n",
       "      <td>...</td>\n",
       "      <td>...</td>\n",
       "      <td>...</td>\n",
       "      <td>...</td>\n",
       "      <td>...</td>\n",
       "    </tr>\n",
       "    <tr>\n",
       "      <th>13949</th>\n",
       "      <td>2016-17</td>\n",
       "      <td>Musicians from the New York Philharmonic</td>\n",
       "      <td>[{'Date': '2017-06-24T04:00:00Z', 'eventType':...</td>\n",
       "      <td>14189</td>\n",
       "      <td>[{'workTitle': 'QUARTET, STRING, NO. 3 (MISHIM...</td>\n",
       "      <td>3d50968c-2e8b-405f-969c-ba36f941f393</td>\n",
       "    </tr>\n",
       "    <tr>\n",
       "      <th>13950</th>\n",
       "      <td>2016-17</td>\n",
       "      <td>New York Philharmonic</td>\n",
       "      <td>[{'Date': '2017-07-02T04:00:00Z', 'eventType':...</td>\n",
       "      <td>14146</td>\n",
       "      <td>[{'workTitle': 'SYMPHONY NO. 9, E MINOR, OP.95...</td>\n",
       "      <td>adb9fc8b-95bc-47d0-9f4b-78fc242f1f8f</td>\n",
       "    </tr>\n",
       "    <tr>\n",
       "      <th>13951</th>\n",
       "      <td>2016-17</td>\n",
       "      <td>New York Philharmonic</td>\n",
       "      <td>[{'Date': '2017-07-03T04:00:00Z', 'eventType':...</td>\n",
       "      <td>14148</td>\n",
       "      <td>[{'workTitle': 'SYMPHONY NO.  7 IN E MINOR (SO...</td>\n",
       "      <td>f072c652-c452-4ad4-975a-f6abd5ff8b4d</td>\n",
       "    </tr>\n",
       "    <tr>\n",
       "      <th>13952</th>\n",
       "      <td>2016-17</td>\n",
       "      <td>New York Philharmonic</td>\n",
       "      <td>[{'Date': '2017-07-04T04:00:00Z', 'eventType':...</td>\n",
       "      <td>14136</td>\n",
       "      <td>[{'workTitle': 'SYMPHONY NO. 9, E MINOR, OP.95...</td>\n",
       "      <td>68625626-8085-44e4-bdb3-d8e6ac51c95b</td>\n",
       "    </tr>\n",
       "    <tr>\n",
       "      <th>13953</th>\n",
       "      <td>2016-17</td>\n",
       "      <td>New York Philharmonic</td>\n",
       "      <td>[{'Date': '2017-07-07T04:00:00Z', 'eventType':...</td>\n",
       "      <td>14147</td>\n",
       "      <td>[{'workTitle': 'QUIET CITY', 'conductorName': ...</td>\n",
       "      <td>5c22d35f-a282-4505-bd31-df619c74f52b</td>\n",
       "    </tr>\n",
       "  </tbody>\n",
       "</table>\n",
       "<p>13954 rows × 6 columns</p>\n",
       "</div>"
      ],
      "text/plain": [
       "        season                                 orchestra  \\\n",
       "0      1842-43                     New York Philharmonic   \n",
       "1      1842-43                     New York Philharmonic   \n",
       "2      1842-43  Musicians from the New York Philharmonic   \n",
       "3      1842-43                     New York Philharmonic   \n",
       "4      1843-44                     New York Philharmonic   \n",
       "...        ...                                       ...   \n",
       "13949  2016-17  Musicians from the New York Philharmonic   \n",
       "13950  2016-17                     New York Philharmonic   \n",
       "13951  2016-17                     New York Philharmonic   \n",
       "13952  2016-17                     New York Philharmonic   \n",
       "13953  2016-17                     New York Philharmonic   \n",
       "\n",
       "                                                concerts programID  \\\n",
       "0      [{'Date': '1842-12-07T05:00:00Z', 'eventType':...      3853   \n",
       "1      [{'Date': '1843-02-18T05:00:00Z', 'eventType':...      5178   \n",
       "2      [{'Date': '1843-04-07T05:00:00Z', 'eventType':...     10785   \n",
       "3      [{'Date': '1843-04-22T05:00:00Z', 'eventType':...      5887   \n",
       "4      [{'Date': '1843-11-18T05:00:00Z', 'eventType':...       305   \n",
       "...                                                  ...       ...   \n",
       "13949  [{'Date': '2017-06-24T04:00:00Z', 'eventType':...     14189   \n",
       "13950  [{'Date': '2017-07-02T04:00:00Z', 'eventType':...     14146   \n",
       "13951  [{'Date': '2017-07-03T04:00:00Z', 'eventType':...     14148   \n",
       "13952  [{'Date': '2017-07-04T04:00:00Z', 'eventType':...     14136   \n",
       "13953  [{'Date': '2017-07-07T04:00:00Z', 'eventType':...     14147   \n",
       "\n",
       "                                                   works  \\\n",
       "0      [{'workTitle': 'SYMPHONY NO. 5 IN C MINOR, OP....   \n",
       "1      [{'workTitle': 'SYMPHONY NO. 3 IN E FLAT MAJOR...   \n",
       "2      [{'workTitle': 'EGMONT, OP.84', 'composerName'...   \n",
       "3      [{'workTitle': 'SYMPHONY NO. 2 IN D MAJOR, OP....   \n",
       "4      [{'workTitle': 'SYMPHONY NO. 7 IN A MAJOR, OP....   \n",
       "...                                                  ...   \n",
       "13949  [{'workTitle': 'QUARTET, STRING, NO. 3 (MISHIM...   \n",
       "13950  [{'workTitle': 'SYMPHONY NO. 9, E MINOR, OP.95...   \n",
       "13951  [{'workTitle': 'SYMPHONY NO.  7 IN E MINOR (SO...   \n",
       "13952  [{'workTitle': 'SYMPHONY NO. 9, E MINOR, OP.95...   \n",
       "13953  [{'workTitle': 'QUIET CITY', 'conductorName': ...   \n",
       "\n",
       "                                         id  \n",
       "0      38e072a7-8fc9-4f9a-8eac-3957905c0002  \n",
       "1      c7b2b95c-5e0b-431c-a340-5b37fc860b34  \n",
       "2      894e1a52-1ae5-4fa7-aec0-b99997555a37  \n",
       "3      34ec2c2b-3297-4716-9831-b538310462b7  \n",
       "4      610a4acc-94e4-4cd6-bdc1-8ad020edc7e9  \n",
       "...                                     ...  \n",
       "13949  3d50968c-2e8b-405f-969c-ba36f941f393  \n",
       "13950  adb9fc8b-95bc-47d0-9f4b-78fc242f1f8f  \n",
       "13951  f072c652-c452-4ad4-975a-f6abd5ff8b4d  \n",
       "13952  68625626-8085-44e4-bdb3-d8e6ac51c95b  \n",
       "13953  5c22d35f-a282-4505-bd31-df619c74f52b  \n",
       "\n",
       "[13954 rows x 6 columns]"
      ]
     },
     "execution_count": 3,
     "metadata": {},
     "output_type": "execute_result"
    }
   ],
   "source": [
    "df = pd.DataFrame(json_text)\n",
    "normal_df = pd.json_normalize(df['programs'])\n",
    "normal_df\n"
   ]
  },
  {
   "cell_type": "markdown",
   "metadata": {},
   "source": [
    "# looks like two columns \"works\" and \"concerts\" have nested json files\n",
    "# So, lets explode the list of both columns"
   ]
  },
  {
   "cell_type": "code",
   "execution_count": 4,
   "metadata": {},
   "outputs": [],
   "source": [
    "a = normal_df.explode('concerts')\n",
    "b = normal_df.explode('works')"
   ]
  },
  {
   "cell_type": "markdown",
   "metadata": {},
   "source": [
    "# normalize the columns"
   ]
  },
  {
   "cell_type": "code",
   "execution_count": 5,
   "metadata": {},
   "outputs": [],
   "source": [
    "concerts_df = pd.json_normalize(a['concerts'])\n",
    "works_df = pd.json_normalize(b['works'])"
   ]
  },
  {
   "cell_type": "markdown",
   "metadata": {},
   "source": [
    "# add columns to the exixting DataFrame"
   ]
  },
  {
   "cell_type": "code",
   "execution_count": 6,
   "metadata": {},
   "outputs": [],
   "source": [
    "d = pd.concat([concerts_df, works_df, normal_df], axis=1)"
   ]
  },
  {
   "cell_type": "code",
   "execution_count": 7,
   "metadata": {},
   "outputs": [],
   "source": [
    "final_df = d.drop(columns=['concerts', 'works'])"
   ]
  },
  {
   "cell_type": "markdown",
   "metadata": {},
   "source": [
    "# looks like another column \"soloists\" has nested json"
   ]
  },
  {
   "cell_type": "code",
   "execution_count": 8,
   "metadata": {},
   "outputs": [],
   "source": [
    "x = final_df.explode('soloists')"
   ]
  },
  {
   "cell_type": "markdown",
   "metadata": {},
   "source": [
    "# lsts repeat the same process and store the output dataframe in a CSV file"
   ]
  },
  {
   "cell_type": "code",
   "execution_count": 9,
   "metadata": {},
   "outputs": [],
   "source": [
    "soloists_df = pd.json_normalize(x['soloists'])"
   ]
  },
  {
   "cell_type": "code",
   "execution_count": 10,
   "metadata": {},
   "outputs": [],
   "source": [
    "y = pd.concat([final_df, soloists_df], axis=1)"
   ]
  },
  {
   "cell_type": "code",
   "execution_count": 11,
   "metadata": {},
   "outputs": [],
   "source": [
    "normalized_df = y.drop(columns=['soloists'])\n",
    "normalized_df.to_csv(\"normalized_Dataframe.csv\", index=False)"
   ]
  },
  {
   "cell_type": "markdown",
   "metadata": {},
   "source": [
    "# DONE"
   ]
  },
  {
   "cell_type": "markdown",
   "metadata": {},
   "source": []
  }
 ],
 "metadata": {
  "kernelspec": {
   "display_name": "Python 3",
   "language": "python",
   "name": "python3"
  },
  "language_info": {
   "codemirror_mode": {
    "name": "ipython",
    "version": 3
   },
   "file_extension": ".py",
   "mimetype": "text/x-python",
   "name": "python",
   "nbconvert_exporter": "python",
   "pygments_lexer": "ipython3",
   "version": "3.11.4"
  },
  "orig_nbformat": 4
 },
 "nbformat": 4,
 "nbformat_minor": 2
}
