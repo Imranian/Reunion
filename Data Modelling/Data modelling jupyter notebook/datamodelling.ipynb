{
 "cells": [
  {
   "cell_type": "markdown",
   "metadata": {},
   "source": [
    "# Tile"
   ]
  },
  {
   "cell_type": "markdown",
   "metadata": {},
   "source": [
    "# import "
   ]
  },
  {
   "cell_type": "code",
   "execution_count": 10,
   "metadata": {},
   "outputs": [],
   "source": [
    "from faker import Faker\n",
    "import random\n",
    "from datetime import datetime, timedelta\n",
    "import pandas as pd"
   ]
  },
  {
   "cell_type": "markdown",
   "metadata": {},
   "source": [
    "# store Faker data in a variable"
   ]
  },
  {
   "cell_type": "code",
   "execution_count": 2,
   "metadata": {},
   "outputs": [],
   "source": [
    "f = Faker()"
   ]
  },
  {
   "cell_type": "markdown",
   "metadata": {},
   "source": [
    "# Customers"
   ]
  },
  {
   "cell_type": "code",
   "execution_count": 3,
   "metadata": {},
   "outputs": [],
   "source": [
    "customer_id = random.randint(1, 10)\n",
    "customers = []\n",
    "for i in range(10):\n",
    "    customers.append({\n",
    "        'customer_id': customer_id+i,\n",
    "        'First_Name': f.first_name(),\n",
    "        'Last_Name': f.last_name(),\n",
    "        'Email': f.email(),\n",
    "        'Contact_Number': f.phone_number()\n",
    "    })"
   ]
  },
  {
   "cell_type": "markdown",
   "metadata": {},
   "source": [
    "# adress"
   ]
  },
  {
   "cell_type": "code",
   "execution_count": 4,
   "metadata": {},
   "outputs": [],
   "source": [
    "adress_id = 45645\n",
    "adress = []\n",
    "for customer in customers:\n",
    "    adress.append({\n",
    "        \"adress_id\": adress_id+1,\n",
    "        \"customer_id\": customer['customer_id'],\n",
    "        \"state\": f.state(),\n",
    "        \"country\": f.country()\n",
    "    })"
   ]
  },
  {
   "cell_type": "markdown",
   "metadata": {},
   "source": [
    "# products"
   ]
  },
  {
   "cell_type": "code",
   "execution_count": 5,
   "metadata": {},
   "outputs": [],
   "source": [
    "product_id = random.randint(11, 20)\n",
    "products = []\n",
    "for i in range(10):\n",
    "    products.append({\n",
    "        'product_id': product_id+i,\n",
    "        'product_name': f.word(),\n",
    "        'product_price': product_id + ((i+1)*15)\n",
    "    })"
   ]
  },
  {
   "cell_type": "markdown",
   "metadata": {},
   "source": [
    "# variants"
   ]
  },
  {
   "cell_type": "code",
   "execution_count": 6,
   "metadata": {},
   "outputs": [],
   "source": [
    "variant_id = random.randint(21, 30)\n",
    "variants = []\n",
    "for product in products:\n",
    "    for i in range(1, 3):\n",
    "        variants.append({\n",
    "            'variant_id': variant_id+i,\n",
    "            'product_id': product['product_id'],\n",
    "            'variant_name': f.word()\n",
    "        })"
   ]
  },
  {
   "cell_type": "markdown",
   "metadata": {},
   "source": [
    "# order"
   ]
  },
  {
   "cell_type": "code",
   "execution_count": 7,
   "metadata": {},
   "outputs": [],
   "source": [
    "order_id = random.randint(50, 100)\n",
    "orders = []\n",
    "for i in range(30):\n",
    "    order_date = f.date_time_between(start_date=\"-2y\", end_date=\"now\").strftime('%Y-%m-%d %H:%M:%S')\n",
    "    orders.append({\n",
    "        'order_id': order_id+i,\n",
    "        'customer-id': random.choice(customers)['customer_id'],\n",
    "        'order_date': order_date\n",
    "    })"
   ]
  },
  {
   "cell_type": "markdown",
   "metadata": {},
   "source": [
    "# Generate price history for variants"
   ]
  },
  {
   "cell_type": "code",
   "execution_count": 8,
   "metadata": {},
   "outputs": [],
   "source": [
    "price_history = []\n",
    "for variant in variants:\n",
    "    num_price_changes = random.randint(1, 5)\n",
    "    price = random.uniform(10, 100)\n",
    "    start_date = datetime(2022, 1, 1)\n",
    "    for i in range(num_price_changes):\n",
    "        end_date = start_date + timedelta(days=random.randint(30, 180))\n",
    "        price_history.append({\n",
    "            'variant_id': random.choice(variants)['variant_id'],\n",
    "            'Price': price,\n",
    "            'Start_Date': start_date,\n",
    "            'End_Date': end_date\n",
    "        })\n",
    "        start_date = end_date + timedelta(days=1)"
   ]
  },
  {
   "cell_type": "markdown",
   "metadata": {},
   "source": [
    "# Lets convert these Lists containing data from Dictionary to Pandas DataFrame"
   ]
  },
  {
   "cell_type": "code",
   "execution_count": 11,
   "metadata": {},
   "outputs": [],
   "source": [
    "Customers_DF = pd.DataFrame(customers)\n",
    "adress_DF = pd.DataFrame(adress)\n",
    "products_DF = pd.DataFrame(products)\n",
    "variants_DF = pd.DataFrame(variants)\n",
    "orders_DF = pd.DataFrame(orders)\n",
    "price_history_DF = pd.DataFrame(price_history)"
   ]
  },
  {
   "cell_type": "markdown",
   "metadata": {},
   "source": [
    "# If we want we can change these DataFrame to a CSV, JSON or XML."
   ]
  },
  {
   "cell_type": "markdown",
   "metadata": {},
   "source": [
    "### Dataframe_name.to_csv(\"filename or path\", index=False)"
   ]
  },
  {
   "cell_type": "markdown",
   "metadata": {},
   "source": [
    "Customers_DF.to_csv(\"Customers.csv\", index=False)\n",
    "\n",
    "adress_DF.to_csv(\"adress.csv\", index=False)\n",
    "\n",
    "products_DF.to_csv(\"products.csv\", index=False)\n",
    "\n",
    "variants_DF.to_csv(\"variants.csv\", index=False)\n",
    "\n",
    "orders_DF.to_csv(\"orders.csv\", index=False)\n",
    "\n",
    "price_history_DF.to_csv(\"price_history.csv\", index=False)"
   ]
  },
  {
   "cell_type": "markdown",
   "metadata": {},
   "source": [
    "# Entinty-Relationship Diagram"
   ]
  },
  {
   "cell_type": "markdown",
   "metadata": {},
   "source": [
    "<img src='https://github.com/Imranian/Reunion/blob/main/Data%20Modelling/ERD.png' style='width:200px;height:400px'/>"
   ]
  }
 ],
 "metadata": {
  "kernelspec": {
   "display_name": "Python 3",
   "language": "python",
   "name": "python3"
  },
  "language_info": {
   "codemirror_mode": {
    "name": "ipython",
    "version": 3
   },
   "file_extension": ".py",
   "mimetype": "text/x-python",
   "name": "python",
   "nbconvert_exporter": "python",
   "pygments_lexer": "ipython3",
   "version": "3.11.4"
  },
  "orig_nbformat": 4
 },
 "nbformat": 4,
 "nbformat_minor": 2
}
